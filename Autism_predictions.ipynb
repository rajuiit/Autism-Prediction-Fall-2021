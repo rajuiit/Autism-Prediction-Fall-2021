{
  "cells": [
    {
      "cell_type": "code",
      "execution_count": null,
      "metadata": {
        "id": "E1TpayOiP5R5"
      },
      "outputs": [],
      "source": [
        "import pandas as pd\n",
        "import numpy as np\n",
        "import seaborn as sns\n",
        "import matplotlib.pyplot as plt\n",
        "from scipy.stats import pearsonr\n",
        "from itertools import product\n",
        "from matplotlib import gridspec\n",
        "from sklearn.linear_model import LogisticRegression\n",
        "from sklearn.svm import SVC\n",
        "from sklearn.ensemble import RandomForestClassifier\n",
        "from xgboost import XGBClassifier\n",
        "from sklearn.svm import SVC\n",
        "from sklearn.tree import DecisionTreeClassifier\n",
        "from sklearn.neural_network import MLPClassifier\n",
        "from sklearn.neighbors import KNeighborsClassifier\n",
        "from sklearn.model_selection import cross_val_score\n",
        "from sklearn.model_selection import learning_curve\n",
        "from sklearn.metrics import f1_score, precision_score, recall_score, log_loss, auc, roc_curve, roc_auc_score\n",
        "from sklearn.model_selection import train_test_split\n",
        "from scipy import stats"
      ]
    },
    {
      "cell_type": "code",
      "execution_count": null,
      "metadata": {},
      "outputs": [],
      "source": [
        "print(\"Hello World\")\n",
        "print(\"Hello World\")"
      ]
    },
    {
      "cell_type": "code",
      "execution_count": null,
      "metadata": {
        "colab": {
          "base_uri": "https://localhost:8080/"
        },
        "id": "sh8vIK71QNRP",
        "outputId": "09061036-db84-4695-c354-042d348c71d5"
      },
      "outputs": [],
      "source": [
        "df = pd.read_csv('/content/Autism-Child-Data.arff.csv')\n",
        "df.columns"
      ]
    },
    {
      "cell_type": "code",
      "execution_count": null,
      "metadata": {
        "colab": {
          "base_uri": "https://localhost:8080/"
        },
        "id": "D9RItuXcQOgA",
        "outputId": "186da62b-077a-4355-84dd-053c3b30e108"
      },
      "outputs": [],
      "source": [
        "df.shape"
      ]
    },
    {
      "cell_type": "code",
      "execution_count": null,
      "metadata": {
        "colab": {
          "base_uri": "https://localhost:8080/"
        },
        "id": "6BhhDI6DQOuC",
        "outputId": "8aac9f85-dd97-4405-f409-aed7241eb33d"
      },
      "outputs": [],
      "source": [
        "len(df[df['gender']=='m'])"
      ]
    },
    {
      "cell_type": "code",
      "execution_count": null,
      "metadata": {
        "colab": {
          "base_uri": "https://localhost:8080/"
        },
        "id": "1Oz4rJrPQOvn",
        "outputId": "2c2359bf-a040-4034-80a4-df60b98b9681"
      },
      "outputs": [],
      "source": [
        "len(df[df['gender']=='f'])"
      ]
    },
    {
      "cell_type": "code",
      "execution_count": null,
      "metadata": {
        "colab": {
          "base_uri": "https://localhost:8080/"
        },
        "id": "5N0kgg9EQb_-",
        "outputId": "7e054a8d-61f4-4803-e32a-bd71be931ffd"
      },
      "outputs": [],
      "source": [
        "positive = df[df['Class/ASD']=='YES']\n",
        "len(positive)"
      ]
    },
    {
      "cell_type": "code",
      "execution_count": null,
      "metadata": {
        "colab": {
          "base_uri": "https://localhost:8080/"
        },
        "id": "jQ_1ahY4QcFq",
        "outputId": "cf5d868c-8501-4118-d7a9-83a1150d71d1"
      },
      "outputs": [],
      "source": [
        "negative = df[df['Class/ASD']=='NO']\n",
        "len(negative)"
      ]
    },
    {
      "cell_type": "code",
      "execution_count": null,
      "metadata": {
        "colab": {
          "base_uri": "https://localhost:8080/"
        },
        "id": "cGaFHZmpQcMP",
        "outputId": "1a691858-e2e3-4b58-c04c-d06a8f3c039f"
      },
      "outputs": [],
      "source": [
        "len(positive[positive['gender']=='m'])"
      ]
    },
    {
      "cell_type": "code",
      "execution_count": null,
      "metadata": {
        "colab": {
          "base_uri": "https://localhost:8080/"
        },
        "id": "RIJbdWQxQcR9",
        "outputId": "d3a3fab6-e863-4bcf-eb84-9e12102aca0e"
      },
      "outputs": [],
      "source": [
        "len(positive[positive['gender']=='f'])"
      ]
    },
    {
      "cell_type": "code",
      "execution_count": null,
      "metadata": {
        "id": "hEC1KPYTQcTa"
      },
      "outputs": [],
      "source": [
        "df['Class/ASD'].unique()\n",
        "df.loc[df['Class/ASD'] == 'NO', 'Class/ASD'] = 0\n",
        "df.loc[df['Class/ASD'] == 'YES', 'Class/ASD'] = 1\n",
        "df.loc[df['gender'] == 'f', 'gender'] = 0\n",
        "df.loc[df['gender'] == 'm', 'gender'] = 1"
      ]
    },
    {
      "cell_type": "code",
      "execution_count": null,
      "metadata": {
        "colab": {
          "base_uri": "https://localhost:8080/"
        },
        "id": "W-xKITb2QcYY",
        "outputId": "fd395f7d-2215-42b3-cd70-1b31a37a8311"
      },
      "outputs": [],
      "source": [
        "df.columns"
      ]
    },
    {
      "cell_type": "code",
      "execution_count": null,
      "metadata": {
        "colab": {
          "base_uri": "https://localhost:8080/"
        },
        "id": "7Y5jK79NQcaB",
        "outputId": "2b3b731e-3ce4-458c-9162-c19679027135"
      },
      "outputs": [],
      "source": [
        "yes = df[df['A1_Score']==1]\n",
        "no = df[df['A1_Score']==0]\n",
        "yesPercentage = len(yes)*100/len(df)\n",
        "yesPercentage = \"{:.2f}\".format(yesPercentage)\n",
        "noPercentage = len(no)*100/len(df)\n",
        "noPercentage = \"{:.2f}\".format(noPercentage)\n",
        "cor, pvalue = stats.ttest_ind(df['A1_Score'], df['Class/ASD'])\n",
        "print('All Yes = '+str(len(yes))+'('+str((yesPercentage))+'%)')\n",
        "print('All No = '+ str(len(no))+' ('+str(noPercentage)+'%)')\n",
        "YesPositive = yes[yes['Class/ASD']==0]\n",
        "YesPositivePercent = len(YesPositive)*100/len(yes)\n",
        "YesPositivePercent = \"{:.2f}\".format(YesPositivePercent)\n",
        "YesNegaive = yes[yes['Class/ASD']==1]\n",
        "YesNegativepercent = len(YesNegaive)*100/len(yes)\n",
        "YesNegativepercent = \"{:.2f}\".format(YesNegativepercent)\n",
        "print('Positive among Yes = '+ str(len(YesPositive))+'('+str((YesPositivePercent))+'%)')\n",
        "print('Negative among yes = '+ str(len(YesNegaive))+'('+str((YesNegativepercent))+'%)')\n",
        "NoPositive = no[no['Class/ASD']==0]\n",
        "NoPositivePercent = len(NoPositive)*100/len(no)\n",
        "NoPositivePercent = \"{:.2f}\".format(NoPositivePercent)\n",
        "NoNegative = no[no['Class/ASD']==1]\n",
        "NoNegativePercent = len(NoNegative)*100/len(no)\n",
        "NoNegativePercent = \"{:.2f}\".format(NoNegativePercent)\n",
        "print('Positive among No = '+ str(len(NoPositive))+'('+str((NoPositivePercent))+'%)')\n",
        "print('Negative among No = '+ str(len(NoNegative))+'('+str((NoNegativePercent))+'%)')\n",
        "print('P value  = '+ str(pvalue))"
      ]
    },
    {
      "cell_type": "code",
      "execution_count": null,
      "metadata": {
        "id": "0fg7PmNYQy6I"
      },
      "outputs": [],
      "source": [
        "df[\"age\"].replace({\"?\": np.nan}, inplace=True)\n",
        "df[\"contry_of_res\"].replace({\"?\": np.nan}, inplace=True)\n",
        "df[\"age_desc\"].replace({\"?\": np.nan}, inplace=True)\n",
        "df[\"relation\"].replace({\"?\": np.nan}, inplace=True)"
      ]
    },
    {
      "cell_type": "code",
      "execution_count": null,
      "metadata": {
        "id": "OASFzdHNQy71"
      },
      "outputs": [],
      "source": [
        "df = df.dropna()"
      ]
    },
    {
      "cell_type": "code",
      "execution_count": null,
      "metadata": {
        "id": "Buey_eNTQcg-"
      },
      "outputs": [],
      "source": [
        "df['A1_Score'] = df['A1_Score'].astype('bool')\n",
        "df['A2_Score'] = df['A2_Score'].astype('bool')\n",
        "df['A3_Score'] = df['A3_Score'].astype('bool')\n",
        "df['A4_Score'] = df['A4_Score'].astype('bool')\n",
        "df['A5_Score'] = df['A5_Score'].astype('bool')\n",
        "df['A6_Score'] = df['A6_Score'].astype('bool')\n",
        "df['A7_Score'] = df['A7_Score'].astype('bool')\n",
        "df['A8_Score'] = df['A8_Score'].astype('bool')\n",
        "df['A9_Score'] = df['A9_Score'].astype('bool')\n",
        "df['A10_Score'] = df['A10_Score'].astype('bool')\n",
        "df['gender'] = df['gender'].astype('category')\n",
        "df['jundice'] = df['jundice'].astype('bool')\n",
        "df['austim'] = df['austim'].astype('bool')\n",
        "df['used_app_before'] = df['used_app_before'].astype('bool')\n",
        "df['Class/ASD'] = df['Class/ASD'].astype('bool')\n",
        "df['relation'] = df['relation'].astype('category')\n",
        "df['age'] = df['age'].astype('float')"
      ]
    },
    {
      "cell_type": "code",
      "execution_count": null,
      "metadata": {
        "colab": {
          "base_uri": "https://localhost:8080/"
        },
        "id": "lzn6w96XQcij",
        "outputId": "bfb29cbc-79f7-47f5-f601-5175cbe3a677"
      },
      "outputs": [],
      "source": [
        "df['Class/ASD'].unique()"
      ]
    },
    {
      "cell_type": "code",
      "execution_count": null,
      "metadata": {
        "colab": {
          "base_uri": "https://localhost:8080/"
        },
        "id": "9cFlbih6RBca",
        "outputId": "3e4b536a-9fcc-4d13-87c5-4959c2d61143"
      },
      "outputs": [],
      "source": [
        "len(df[df['gender']==0])"
      ]
    },
    {
      "cell_type": "code",
      "execution_count": null,
      "metadata": {
        "id": "qqfMoKyRRBeC"
      },
      "outputs": [],
      "source": [
        "ASD1 = df[df['Class/ASD']==1]\n",
        "ASD0 = df[df['Class/ASD']==0]"
      ]
    },
    {
      "cell_type": "code",
      "execution_count": null,
      "metadata": {
        "colab": {
          "base_uri": "https://localhost:8080/"
        },
        "id": "q8CA8pZdRBia",
        "outputId": "11e46b1d-0956-4a81-a1f1-fa8ce0e8ef50"
      },
      "outputs": [],
      "source": [
        "len(ASD0[ASD0['gender']=='f'])"
      ]
    },
    {
      "cell_type": "code",
      "execution_count": null,
      "metadata": {
        "id": "dso-UbLrRBkK"
      },
      "outputs": [],
      "source": [
        "x = ['A1', 'A2', 'A3', 'A4', 'A5', 'A6', 'A7', 'A8', 'A9', 'A10', 'Gender', 'Jaundice', 'Autism', 'UAB']\n",
        "Yes = []\n",
        "No  = []"
      ]
    },
    {
      "cell_type": "code",
      "execution_count": null,
      "metadata": {
        "id": "-yRxdDbrQcsu"
      },
      "outputs": [],
      "source": [
        "target = df['Class/ASD']\n",
        "df = df.drop(['age_desc', 'contry_of_res', 'relation'], axis=1)"
      ]
    },
    {
      "cell_type": "code",
      "execution_count": null,
      "metadata": {
        "id": "Pmo8VQb1RUzC"
      },
      "outputs": [],
      "source": [
        "df = df.drop(['ethnicity', 'result'], axis=1)"
      ]
    },
    {
      "cell_type": "code",
      "execution_count": null,
      "metadata": {
        "id": "auV1lwd_RU01"
      },
      "outputs": [],
      "source": [
        "df.loc[df['Class/ASD'] == 'NO', 'Class/ASD'] = 0\n",
        "df.loc[df['Class/ASD'] == 'YES', 'Class/ASD'] = 1\n",
        "df['Class/ASD'] = df['Class/ASD'].astype(bool)"
      ]
    },
    {
      "cell_type": "code",
      "execution_count": null,
      "metadata": {
        "id": "yGEzR2ZeRU5B"
      },
      "outputs": [],
      "source": [
        "X = df.drop(['Class/ASD'], axis=1)\n",
        "y = df['Class/ASD']\n",
        "X_train, X_test, y_train, y_test = train_test_split(X,y,test_size=0.4)"
      ]
    },
    {
      "cell_type": "code",
      "execution_count": null,
      "metadata": {
        "colab": {
          "base_uri": "https://localhost:8080/"
        },
        "id": "eiN20uiFRU6x",
        "outputId": "5e67959d-1880-4628-a05d-ba4d62a6ddd8"
      },
      "outputs": [],
      "source": [
        "from sklearn.metrics import f1_score, precision_score, recall_score, log_loss, matthews_corrcoef, cohen_kappa_score\n",
        "X_train, X_test, y_train, y_test = train_test_split(X,y,test_size=0.3)\n",
        "rf = RandomForestClassifier(n_estimators=60)\n",
        "rf.fit(X_train, y_train)\n",
        "acc = rf.score(X_test, y_test)\n",
        "y_pred = rf.predict(X_test)\n",
        "f1 = f1_score(y_test, y_pred, average='micro')\n",
        "precision_score = precision_score(y_test, y_pred, average='micro')\n",
        "recall_score = recall_score(y_test, y_pred, average='micro')\n",
        "log_loss = log_loss(y_test, y_pred)\n",
        "mcc = matthews_corrcoef(y_test, y_pred)\n",
        "kapp = cohen_kappa_score(y_test, y_pred)\n",
        "print('Accuracy: '+ str(acc))\n",
        "print('f1: '+ str(f1))\n",
        "print('precision_score: '+ str(precision_score))\n",
        "print('recall_score: '+ str(recall_score))\n",
        "print('log_loss: '+ str(log_loss))\n",
        "print('mcc: '+ str(mcc))\n",
        "print('kapp: '+ str(kapp))"
      ]
    },
    {
      "cell_type": "code",
      "execution_count": null,
      "metadata": {
        "colab": {
          "base_uri": "https://localhost:8080/",
          "height": 473
        },
        "id": "Qm7DaopfUD0d",
        "outputId": "8696a3a6-b53e-4a2a-b9e3-d5a43cd0feb8"
      },
      "outputs": [],
      "source": [
        "import shap\n",
        "explainer = shap.TreeExplainer(rf)\n",
        "shap_values = explainer.shap_values(X)\n",
        "sns.set_style('darkgrid')\n",
        "shap.summary_plot(shap_values, X)"
      ]
    },
    {
      "cell_type": "code",
      "execution_count": null,
      "metadata": {
        "colab": {
          "base_uri": "https://localhost:8080/"
        },
        "id": "qQ0j3ZlwRmBl",
        "outputId": "5a15a4b2-2bcc-408f-afff-8d7c5588d032"
      },
      "outputs": [],
      "source": [
        "from sklearn.metrics import f1_score, precision_score, recall_score, log_loss, matthews_corrcoef, cohen_kappa_score\n",
        "dt = DecisionTreeClassifier(max_depth=6)\n",
        "dt.fit(X_train, y_train)\n",
        "acc = dt.score(X_test, y_test)\n",
        "y_pred = dt.predict(X_test)\n",
        "f1 = f1_score(y_test, y_pred, average='micro')\n",
        "precision_score = precision_score(y_test, y_pred, average='micro')\n",
        "recall_score = recall_score(y_test, y_pred, average='micro')\n",
        "log_loss = log_loss(y_test, y_pred)\n",
        "mcc = matthews_corrcoef(y_test, y_pred)\n",
        "kapp = cohen_kappa_score(y_test, y_pred)\n",
        "print('Accuracy: '+ str(acc))\n",
        "print('f1: '+ str(f1))\n",
        "print('precision_score: '+ str(precision_score))\n",
        "print('recall_score: '+ str(recall_score))\n",
        "print('log_loss: '+ str(log_loss))\n",
        "print('mcc: '+ str(mcc))\n",
        "print('kapp: '+ str(kapp))"
      ]
    },
    {
      "cell_type": "code",
      "execution_count": null,
      "metadata": {
        "colab": {
          "base_uri": "https://localhost:8080/",
          "height": 473
        },
        "id": "LvqvnetEVTJL",
        "outputId": "e000e3ec-d860-44e6-bdc4-9073f7729e52"
      },
      "outputs": [],
      "source": [
        "import shap\n",
        "explainer = shap.TreeExplainer(dt)\n",
        "shap_values = explainer.shap_values(X)\n",
        "sns.set_style('darkgrid')\n",
        "shap.summary_plot(shap_values, X)"
      ]
    },
    {
      "cell_type": "code",
      "execution_count": null,
      "metadata": {
        "colab": {
          "base_uri": "https://localhost:8080/"
        },
        "id": "GTDU-BxMRmDL",
        "outputId": "519dcaab-9561-44cf-cc23-04da44501a07"
      },
      "outputs": [],
      "source": [
        "from sklearn.metrics import f1_score, precision_score, recall_score, log_loss, matthews_corrcoef, cohen_kappa_score\n",
        "X_train, X_test, y_train, y_test = train_test_split(X,y,test_size=0.3)\n",
        "knn = KNeighborsClassifier(n_neighbors=4)\n",
        "knn.fit(X_train, y_train)\n",
        "acc = knn.score(X_test, y_test)\n",
        "y_pred = knn.predict(X_test)\n",
        "f1 = f1_score(y_test, y_pred, average='micro')\n",
        "precision_score = precision_score(y_test, y_pred, average='micro')\n",
        "recall_score = recall_score(y_test, y_pred, average='micro')\n",
        "log_loss = log_loss(y_test, y_pred)\n",
        "mcc = matthews_corrcoef(y_test, y_pred)\n",
        "kapp = cohen_kappa_score(y_test, y_pred)\n",
        "print('Accuracy: '+ str(acc))\n",
        "print('f1: '+ str(f1))\n",
        "print('precision_score: '+ str(precision_score))\n",
        "print('recall_score: '+ str(recall_score))\n",
        "print('log_loss: '+ str(log_loss))\n",
        "print('mcc: '+ str(mcc))\n",
        "print('kapp: '+ str(kapp))"
      ]
    },
    {
      "cell_type": "code",
      "execution_count": null,
      "metadata": {},
      "outputs": [],
      "source": [
        "explainer = shap.TreeExplainer(knn)\n",
        "shap_values = explainer.shap_values(X)\n",
        "sns.set_style('darkgrid')\n",
        "shap.summary_plot(shap_values, X)"
      ]
    },
    {
      "cell_type": "code",
      "execution_count": null,
      "metadata": {
        "colab": {
          "base_uri": "https://localhost:8080/"
        },
        "id": "35cxrp_KRmHq",
        "outputId": "968f9f3e-1189-43d6-92d4-8f652bacb8fd"
      },
      "outputs": [],
      "source": [
        "from sklearn.metrics import f1_score, precision_score, recall_score, log_loss, matthews_corrcoef, cohen_kappa_score\n",
        "mlp = MLPClassifier(hidden_layer_sizes=20)\n",
        "mlp.fit(X_train, y_train)\n",
        "acc = mlp.score(X_test, y_test)\n",
        "y_pred = mlp.predict(X_test)\n",
        "f1 = f1_score(y_test, y_pred, average='micro')\n",
        "precision_score = precision_score(y_test, y_pred, average='micro')\n",
        "recall_score = recall_score(y_test, y_pred, average='micro')\n",
        "log_loss = log_loss(y_test, y_pred)\n",
        "mcc = matthews_corrcoef(y_test, y_pred)\n",
        "kapp = cohen_kappa_score(y_test, y_pred)\n",
        "print('Accuracy: '+ str(acc))\n",
        "print('f1: '+ str(f1))\n",
        "print('precision_score: '+ str(precision_score))\n",
        "print('recall_score: '+ str(recall_score))\n",
        "print('log_loss: '+ str(log_loss))\n",
        "print('mcc: '+ str(mcc))\n",
        "print('kapp: '+ str(kapp))"
      ]
    },
    {
      "cell_type": "code",
      "execution_count": null,
      "metadata": {
        "colab": {
          "base_uri": "https://localhost:8080/",
          "height": 362
        },
        "id": "AhY_64R9V-av",
        "outputId": "48b72ba8-ad16-47dd-ff56-7efc83eb3346"
      },
      "outputs": [],
      "source": [
        "explainer = shap.TreeExplainer(mlp)\n",
        "shap_values = explainer.shap_values(X)\n",
        "sns.set_style('darkgrid')\n",
        "shap.summary_plot(shap_values, X)"
      ]
    },
    {
      "cell_type": "code",
      "execution_count": null,
      "metadata": {
        "colab": {
          "base_uri": "https://localhost:8080/",
          "height": 1000
        },
        "id": "01fyQsZPLykV",
        "outputId": "8301bc59-52f2-4418-d0d9-70ec604fe34b"
      },
      "outputs": [],
      "source": [
        "from sklearn.metrics import f1_score, precision_score, recall_score, log_loss, auc, roc_curve, roc_auc_score, precision_recall_curve\n",
        "classifiers = [ KNeighborsClassifier(n_neighbors=4),\n",
        "               MLPClassifier(hidden_layer_sizes=20),\n",
        "               DecisionTreeClassifier(max_depth=6),\n",
        "               RandomForestClassifier(n_estimators=60)]\n",
        "\n",
        "# Define a result table as a DataFrame\n",
        "result_table = pd.DataFrame(columns=['classifiers', 'lr_precision', 'lr_recall', 'lr_auc'])\n",
        "\n",
        "# Train the models and record the results\n",
        "for cls in classifiers:\n",
        "    model = cls.fit(X_train, y_train)\n",
        "    yproba = model.predict_proba(X_test)[:, 1]\n",
        "    yproba = model.predict_proba(X_test)[:, 1]\n",
        "    yhat = model.predict(X_test)\n",
        "\n",
        "    lr_precision, lr_recall, _ = precision_recall_curve(y_test, yproba)\n",
        "    lr_f1, lr_auc = f1_score(y_test, yhat), auc(lr_recall, lr_precision)\n",
        "\n",
        "    result_table = result_table.append({'classifiers': cls.__class__.__name__,\n",
        "                                        'lr_precision': lr_precision,\n",
        "                                        'lr_recall': lr_recall,\n",
        "                                        'lr_auc': lr_auc}, ignore_index=True)\n",
        "# Set name of the classifiers as index labels\n",
        "\n",
        "result_table.set_index('classifiers', inplace=True)\n",
        "# ........................................................................................\n",
        "\n",
        "\n",
        "# ROC Curve Analysis\n",
        "\n",
        "\n",
        "classifiers1 = [KNeighborsClassifier(n_neighbors=4),\n",
        "               MLPClassifier(hidden_layer_sizes=20),\n",
        "               DecisionTreeClassifier(max_depth=6),\n",
        "               RandomForestClassifier(n_estimators=60)]\n",
        "# Define a result table as a DataFrame\n",
        "result_table1 = pd.DataFrame(columns=['classifiers', 'fpr', 'tpr', 'auc'])\n",
        "\n",
        "# Train the models and record the results\n",
        "for cls in classifiers1:\n",
        "    model = cls.fit(X_train, y_train)\n",
        "    yproba = model.predict_proba(X_test)[::, 1]\n",
        "\n",
        "    fpr, tpr, _ = roc_curve(y_test, yproba)\n",
        "    auc = roc_auc_score(y_test, yproba)\n",
        "\n",
        "    result_table1 = result_table1.append({'classifiers': cls.__class__.__name__,\n",
        "                                        'fpr': fpr,\n",
        "                                        'tpr': tpr,\n",
        "                                        'auc': auc}, ignore_index=True)\n",
        "\n",
        "# Set name of the classifiers as index labels\n",
        "result_table1.set_index('classifiers', inplace=True)\n",
        "\n",
        "\n",
        "# ........................................................................................\n",
        "fig = plt.figure(figsize=(5, 8))\n",
        "sns.set_style('darkgrid')\n",
        "ax1 = fig.add_subplot(2, 1, 2)\n",
        "for i in result_table.index:\n",
        "    plt.plot(result_table.loc[i]['lr_precision'],\n",
        "             result_table.loc[i]['lr_recall'],\n",
        "             label=\"{}, AUC={:.3f}\".format(i, result_table.loc[i]['lr_auc']))\n",
        "\n",
        "plt.plot([0, 1], [0, 1], color='orange', linestyle='--')\n",
        "\n",
        "plt.xticks(np.arange(0.0, 1.1, step=0.1), weight='bold')\n",
        "plt.xlabel(\"Recall\", weight='bold', fontsize=12)\n",
        "\n",
        "plt.yticks(np.arange(0.0, 1.1, step=0.1), weight='bold')\n",
        "plt.ylabel(\"Precision\", weight='bold', fontsize=12)\n",
        "\n",
        "plt.title('(B)', fontweight='bold', fontsize=14)\n",
        "plt.legend(prop={'size': 11}, loc='lower left')\n",
        "\n",
        "# ..................................................................................................\n",
        "# ROC Curve Analysis\n",
        "ax1 = fig.add_subplot(2, 1, 1)\n",
        "for i in result_table1.index:\n",
        "    plt.plot(result_table1.loc[i]['fpr'],\n",
        "             result_table1.loc[i]['tpr'],\n",
        "             label=\"{}, AUC={:.3f}\".format(i, result_table1.loc[i]['auc']))\n",
        "\n",
        "plt.plot([0, 1], [0, 1], color='orange', linestyle='--')\n",
        "\n",
        "plt.xticks(np.arange(0.0, 1.1, step=0.1), weight='bold')\n",
        "plt.xlabel(\"False Positive Rate\", weight='bold', fontsize=12)\n",
        "\n",
        "plt.yticks(np.arange(0.0, 1.1, step=0.1), weight='bold')\n",
        "plt.ylabel(\"True Positive Rate\", weight='bold', fontsize=12)\n",
        "\n",
        "plt.title('(A)', fontweight='bold', fontsize=14)\n",
        "plt.legend(prop={'size': 11}, loc='lower right')\n",
        "# ..................................................................................................\n",
        "\n",
        "\n",
        "\n",
        "plt.tight_layout()\n",
        "plt.savefig('AUC.png', dpi=800)\n",
        "plt.savefig('AUC.pdf', dpi=800)\n",
        "plt.show()\n"
      ]
    },
    {
      "cell_type": "code",
      "execution_count": null,
      "metadata": {
        "colab": {
          "base_uri": "https://localhost:8080/",
          "height": 712
        },
        "id": "5zM4mGs8LtrV",
        "outputId": "5c62cc0a-2e58-44e3-a729-c54d6dbb49aa"
      },
      "outputs": [],
      "source": [
        "df1 = df[['A1_Score', 'A2_Score', 'A3_Score', 'A4_Score', 'A5_Score', 'A6_Score',\n",
        "       'A7_Score', 'A8_Score', 'A9_Score', 'A10_Score', 'age', 'gender',\n",
        "       'jundice', 'austim', 'used_app_before',\n",
        "       'Class/ASD']]\n",
        "df2 = df[['A1_Score', 'A2_Score', 'A3_Score', 'A4_Score', 'A5_Score', 'A6_Score',\n",
        "       'A7_Score', 'A8_Score', 'A9_Score', 'A10_Score', 'age', 'gender',\n",
        "       'jundice', 'austim','used_app_before',\n",
        "       'Class/ASD']]\n",
        "def compute_corr_and_p(df1, df2):\n",
        "  corrs = pd.DataFrame(index=df1.columns, columns=df2.columns, dtype=np.float64)\n",
        "  pvals = corrs.copy()\n",
        "\n",
        "  for i, j in product(df1.columns, df2.columns):\n",
        "    corrs.loc[i,j], pvals.loc[i,j] = pearsonr(df1[i], df2[j])\n",
        "\n",
        "  return corrs, pvals\n",
        "\n",
        "def plot(corrs, pvals, siglevel=.01):\n",
        "  mask = np.zeros_like(corrs, dtype=np.bool)\n",
        "  mask[np.triu_indices_from(mask) | (pvals >= siglevel) ] = True\n",
        "\n",
        "  cmap = sns.diverging_palette(220, 10, as_cmap=True)\n",
        "\n",
        "  sns.heatmap(pvals,  cmap=cmap, center=0, square=True, linewidths=.5,\n",
        "           cbar_kws={'shrink': .5}, annot=True)\n",
        "cor, p = compute_corr_and_p(df1,df2)\n",
        "plt.figure( figsize=(11,9))\n",
        "g = sns.heatmap(p,vmin=-1, vmax=1, cmap='vlag',annot=True, annot_kws={\"size\":7}, fmt='.2f', linewidths=1, linecolor='w')\n",
        "# plot(cor, p, 0.01)\n",
        "mask = np.invert(np.tril(p<0.05))\n",
        "# fig = plt.figure(figsize=(4,4))\n",
        "# sns.heatmap(p, cmap=\"vlag\", vmin=-1, vmax=1, annot=True, linewidths=1, linecolor='w')\n",
        "plt.xticks(weight='bold')\n",
        "plt.yticks(weight='bold')\n",
        "for text in g.texts:\n",
        "    text.set_size(11)\n",
        "    if text.get_text() < '0.001':\n",
        "        text.set_text('<0.001')\n",
        "        text.set_size(8)\n",
        "        # text.set_weight('bold')\n",
        "\n",
        "# Save a high-res copy of the image to disk\n",
        "plt.tight_layout()"
      ]
    },
    {
      "cell_type": "code",
      "execution_count": null,
      "metadata": {
        "colab": {
          "base_uri": "https://localhost:8080/"
        },
        "id": "gyMPXDpPTw04",
        "outputId": "0b818180-8351-46cf-9b94-91ef4dcf7bbf"
      },
      "outputs": [],
      "source": [
        "pip install shap"
      ]
    },
    {
      "cell_type": "code",
      "execution_count": null,
      "metadata": {
        "id": "RyXaB2BlT8ur"
      },
      "outputs": [],
      "source": [
        "top10 = df[['A1_Score', 'A2_Score', 'A3_Score', 'A4_Score', 'A5_Score', 'A6_Score',\n",
        "       'A7_Score', 'A8_Score', 'A9_Score', 'A10_Score','Class/ASD']]"
      ]
    },
    {
      "cell_type": "code",
      "execution_count": null,
      "metadata": {
        "colab": {
          "base_uri": "https://localhost:8080/",
          "height": 206
        },
        "id": "DZTtbsY4QN-9",
        "outputId": "f7b3fa9b-f6c5-4a8e-9137-375264a85dba"
      },
      "outputs": [],
      "source": [
        "top10.head()"
      ]
    },
    {
      "cell_type": "code",
      "execution_count": null,
      "metadata": {
        "id": "gBpg7Avsnr1S"
      },
      "outputs": [],
      "source": [
        "X = top10.drop(['Class/ASD'], axis=1)\n",
        "y = top10['Class/ASD']\n",
        "X_train, X_test, y_train, y_test = train_test_split(X,y,test_size=0.4)"
      ]
    },
    {
      "cell_type": "code",
      "execution_count": null,
      "metadata": {
        "colab": {
          "base_uri": "https://localhost:8080/"
        },
        "id": "5WmwQFcPooOM",
        "outputId": "81beb3bf-a5b3-4759-d403-d60002062c50"
      },
      "outputs": [],
      "source": [
        "from sklearn.metrics import f1_score, precision_score, recall_score, log_loss, matthews_corrcoef, cohen_kappa_score\n",
        "X_train, X_test, y_train, y_test = train_test_split(X,y,test_size=0.3)\n",
        "rf = RandomForestClassifier(n_estimators=60)\n",
        "rf.fit(X_train, y_train)\n",
        "acc = rf.score(X_test, y_test)\n",
        "y_pred = rf.predict(X_test)\n",
        "f1 = f1_score(y_test, y_pred, average='micro')\n",
        "precision_score = precision_score(y_test, y_pred, average='micro')\n",
        "recall_score = recall_score(y_test, y_pred, average='micro')\n",
        "log_loss = log_loss(y_test, y_pred)\n",
        "mcc = matthews_corrcoef(y_test, y_pred)\n",
        "kapp = cohen_kappa_score(y_test, y_pred)\n",
        "print('Accuracy: '+ str(acc))\n",
        "print('f1: '+ str(f1))\n",
        "print('precision_score: '+ str(precision_score))\n",
        "print('recall_score: '+ str(recall_score))\n",
        "print('log_loss: '+ str(log_loss))\n",
        "print('mcc: '+ str(mcc))\n",
        "print('kapp: '+ str(kapp))"
      ]
    },
    {
      "cell_type": "code",
      "execution_count": null,
      "metadata": {
        "colab": {
          "base_uri": "https://localhost:8080/"
        },
        "id": "_oFDIWX1ooYr",
        "outputId": "d7475f01-2f58-44bc-9e32-15a976e00e0c"
      },
      "outputs": [],
      "source": [
        "from sklearn.metrics import f1_score, precision_score, recall_score, log_loss, matthews_corrcoef, cohen_kappa_score\n",
        "dt = DecisionTreeClassifier(max_depth=6)\n",
        "dt.fit(X_train, y_train)\n",
        "acc = dt.score(X_test, y_test)\n",
        "y_pred = dt.predict(X_test)\n",
        "f1 = f1_score(y_test, y_pred, average='micro')\n",
        "precision_score = precision_score(y_test, y_pred, average='micro')\n",
        "recall_score = recall_score(y_test, y_pred, average='micro')\n",
        "log_loss = log_loss(y_test, y_pred)\n",
        "mcc = matthews_corrcoef(y_test, y_pred)\n",
        "kapp = cohen_kappa_score(y_test, y_pred)\n",
        "print('Accuracy: '+ str(acc))\n",
        "print('f1: '+ str(f1))\n",
        "print('precision_score: '+ str(precision_score))\n",
        "print('recall_score: '+ str(recall_score))\n",
        "print('log_loss: '+ str(log_loss))\n",
        "print('mcc: '+ str(mcc))\n",
        "print('kapp: '+ str(kapp))"
      ]
    },
    {
      "cell_type": "code",
      "execution_count": null,
      "metadata": {
        "colab": {
          "base_uri": "https://localhost:8080/"
        },
        "id": "hloZnhZmoogO",
        "outputId": "49bb5a85-c6b0-485b-dff8-1b2221ad8a47"
      },
      "outputs": [],
      "source": [
        "from sklearn.metrics import f1_score, precision_score, recall_score, log_loss, matthews_corrcoef, cohen_kappa_score\n",
        "X_train, X_test, y_train, y_test = train_test_split(X,y,test_size=0.3)\n",
        "knn = KNeighborsClassifier(n_neighbors=4)\n",
        "knn.fit(X_train, y_train)\n",
        "acc = knn.score(X_test, y_test)\n",
        "y_pred = knn.predict(X_test)\n",
        "f1 = f1_score(y_test, y_pred, average='micro')\n",
        "precision_score = precision_score(y_test, y_pred, average='micro')\n",
        "recall_score = recall_score(y_test, y_pred, average='micro')\n",
        "log_loss = log_loss(y_test, y_pred)\n",
        "mcc = matthews_corrcoef(y_test, y_pred)\n",
        "kapp = cohen_kappa_score(y_test, y_pred)\n",
        "print('Accuracy: '+ str(acc))\n",
        "print('f1: '+ str(f1))\n",
        "print('precision_score: '+ str(precision_score))\n",
        "print('recall_score: '+ str(recall_score))\n",
        "print('log_loss: '+ str(log_loss))\n",
        "print('mcc: '+ str(mcc))\n",
        "print('kapp: '+ str(kapp))"
      ]
    },
    {
      "cell_type": "code",
      "execution_count": null,
      "metadata": {
        "colab": {
          "base_uri": "https://localhost:8080/"
        },
        "id": "z5UPFAp2oooh",
        "outputId": "67c1f177-9b6b-4b45-e7f9-dab5ac519f46"
      },
      "outputs": [],
      "source": [
        "from sklearn.metrics import f1_score, precision_score, recall_score, log_loss, matthews_corrcoef, cohen_kappa_score\n",
        "mlp = MLPClassifier(hidden_layer_sizes=20)\n",
        "mlp.fit(X_train, y_train)\n",
        "acc = mlp.score(X_test, y_test)\n",
        "y_pred = mlp.predict(X_test)\n",
        "f1 = f1_score(y_test, y_pred, average='micro')\n",
        "precision_score = precision_score(y_test, y_pred, average='micro')\n",
        "recall_score = recall_score(y_test, y_pred, average='micro')\n",
        "log_loss = log_loss(y_test, y_pred)\n",
        "mcc = matthews_corrcoef(y_test, y_pred)\n",
        "kapp = cohen_kappa_score(y_test, y_pred)\n",
        "print('Accuracy: '+ str(acc))\n",
        "print('f1: '+ str(f1))\n",
        "print('precision_score: '+ str(precision_score))\n",
        "print('recall_score: '+ str(recall_score))\n",
        "print('log_loss: '+ str(log_loss))\n",
        "print('mcc: '+ str(mcc))\n",
        "print('kapp: '+ str(kapp))"
      ]
    }
  ],
  "metadata": {
    "colab": {
      "provenance": []
    },
    "kernelspec": {
      "display_name": "Python 3",
      "name": "python3"
    },
    "language_info": {
      "codemirror_mode": {
        "name": "ipython",
        "version": 3
      },
      "file_extension": ".py",
      "mimetype": "text/x-python",
      "name": "python",
      "nbconvert_exporter": "python",
      "pygments_lexer": "ipython3",
      "version": "3.7.0"
    }
  },
  "nbformat": 4,
  "nbformat_minor": 0
}
